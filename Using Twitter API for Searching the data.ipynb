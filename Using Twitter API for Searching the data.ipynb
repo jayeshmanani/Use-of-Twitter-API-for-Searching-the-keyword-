{
 "cells": [
  {
   "cell_type": "markdown",
   "metadata": {},
   "source": [
    "# Twitter API Access \n",
    "### Here You will have to first go to this website and get started with the first app \n",
    "\n",
    "--> https://developer.twitter.com/en/apps\n",
    "\n",
    "#### Before going to the link just login with your twitter account and then click on the link. Then after clicking on the link click on Create a Developer Account. Go ahead with the options. Set Account name. Select Your country. Write 300 words description for using the API access.  Then read and accept the terms and conditions And Submit Application. Then go to Keys and Tokens. there you see Consumer API keys and Access Token details. For Access Tokens generation you have to click on generate the Access Token. Then write note it down and set at Consumet Key, Consumer Secret, Access Token, Access Token Secret accordingly.\n",
    "\n",
    "### Do not share it (Access Keys and Consumer Keys) with anybody.\n"
   ]
  },
  {
   "cell_type": "markdown",
   "metadata": {},
   "source": [
    "### Import the Pickle and Os libraries of the Python"
   ]
  },
  {
   "cell_type": "code",
   "execution_count": 92,
   "metadata": {},
   "outputs": [],
   "source": [
    "import pickle\n",
    "import os"
   ]
  },
  {
   "cell_type": "code",
   "execution_count": 93,
   "metadata": {},
   "outputs": [],
   "source": [
    "if not os.path.exists('secret_twitter_credentials.pk1'):\n",
    "    Twitter = {}\n",
    "    Twitter['Consumer Key'] = ''\n",
    "    Twitter['Consumer Secret'] = ''\n",
    "    Twitter['Access Token'] = ''\n",
    "    Twitter['Access Token Secret'] = ''\n",
    "    with open('secret_twitter_credentials.pkl','wb') as f:\n",
    "        pickle.dump(Twitter,f)\n",
    "else:\n",
    "    Twitter = pickle.load(open('secret_twitter_credentials.pk1','rb'))"
   ]
  },
  {
   "cell_type": "markdown",
   "metadata": {},
   "source": [
    "#### Install the Twitter package for interface with the Twitter API using this command if you don't have one \n",
    "\n",
    "!pip install twitter"
   ]
  },
  {
   "cell_type": "markdown",
   "metadata": {},
   "source": [
    "## Authorizing the Application to Access the Twitter Account Data"
   ]
  },
  {
   "cell_type": "code",
   "execution_count": 94,
   "metadata": {},
   "outputs": [
    {
     "name": "stdout",
     "output_type": "stream",
     "text": [
      "<twitter.api.Twitter object at 0x00000166FFD55F60>\n"
     ]
    }
   ],
   "source": [
    "import twitter\n",
    "auth = twitter.oauth.OAuth(Twitter['Access Token'],\n",
    "                          Twitter['Access Token Secret'],\n",
    "                          Twitter['Consumer Key'],\n",
    "                          Twitter['Consumer Secret'])\n",
    "twitter_api = twitter.Twitter(auth=auth)\n",
    "print(twitter_api)"
   ]
  },
  {
   "cell_type": "markdown",
   "metadata": {},
   "source": [
    "## Collecting the Search Results"
   ]
  },
  {
   "cell_type": "code",
   "execution_count": 95,
   "metadata": {},
   "outputs": [],
   "source": [
    "#topic is the keyword for which we are looking for and count or number is the number of tweets we need\n",
    "#statuses are in the JSON format\n",
    "topic = '#MerryChristmas'\n",
    "number = 100\n",
    "search_results = twitter_api.search.tweets(q=topic,count=number)\n",
    "statuses = search_results['statuses']"
   ]
  },
  {
   "cell_type": "code",
   "execution_count": 96,
   "metadata": {},
   "outputs": [
    {
     "data": {
      "text/plain": [
       "100"
      ]
     },
     "execution_count": 96,
     "metadata": {},
     "output_type": "execute_result"
    }
   ],
   "source": [
    "len(statuses)\n",
    "#print(statuses)"
   ]
  },
  {
   "cell_type": "markdown",
   "metadata": {},
   "source": [
    "##### To filter out duplicate results, we filter it out from the output"
   ]
  },
  {
   "cell_type": "code",
   "execution_count": 97,
   "metadata": {},
   "outputs": [],
   "source": [
    "all_text =[]\n",
    "filtered_statuses=[]\n",
    "for s in statuses:\n",
    "    if not s['text'] in all_text:\n",
    "        filtered_statuses.append(s)\n",
    "        all_text.append(s[\"text\"])\n",
    "statuses= filtered_statuses"
   ]
  },
  {
   "cell_type": "code",
   "execution_count": 98,
   "metadata": {},
   "outputs": [
    {
     "data": {
      "text/plain": [
       "97"
      ]
     },
     "execution_count": 98,
     "metadata": {},
     "output_type": "execute_result"
    }
   ],
   "source": [
    "# six duplicates are removed and 94 are remaining one\n",
    "len(statuses)"
   ]
  },
  {
   "cell_type": "code",
   "execution_count": 99,
   "metadata": {},
   "outputs": [],
   "source": [
    "import json"
   ]
  },
  {
   "cell_type": "code",
   "execution_count": 100,
   "metadata": {},
   "outputs": [
    {
     "name": "stdout",
     "output_type": "stream",
     "text": [
      "{\n",
      " \"created_at\": \"Mon Dec 24 21:57:16 +0000 2018\",\n",
      " \"id\": 1077322342299250689,\n",
      " \"id_str\": \"1077322342299250689\",\n",
      " \"text\": \"RT @BTS_army_Fin: Kyll\\u00e4 on kivat joululahjat n\\u00e4\\u00e4 \\nNaver x Dispatch @BTS_twt -joulukuvat \\u2763\\ufe0f\\n#Hyv\\u00e4\\u00e4Joulua vaan ARMY! #MerryChristmas \\n\\n#Video\\u2026\",\n",
      " \"truncated\": false,\n",
      " \"entities\": {\n",
      "  \"hashtags\": [\n",
      "   {\n",
      "    \"text\": \"Hyv\\u00e4\\u00e4Joulua\",\n",
      "    \"indices\": [\n",
      "     91,\n",
      "     103\n",
      "    ]\n",
      "   },\n",
      "   {\n",
      "    \"text\": \"MerryChristmas\",\n",
      "    \"indices\": [\n",
      "     115,\n",
      "     130\n",
      "    ]\n",
      "   }\n",
      "  ],\n",
      "  \"symbols\": [],\n",
      "  \"user_mentions\": [\n",
      "   {\n",
      "    \"screen_name\": \"BTS_army_Fin\",\n",
      "    \"name\": \"BTS ARMY Finland\",\n",
      "    \"id\": 949025961172983808,\n",
      "    \"id_str\": \"949025961172983808\",\n",
      "    \"indices\": [\n",
      "     3,\n",
      "     16\n",
      "    ]\n",
      "   },\n",
      "   {\n",
      "    \"screen_name\": \"BTS_twt\",\n",
      "    \"name\": \"\\ubc29\\ud0c4\\uc18c\\ub144\\ub2e8\",\n",
      "    \"id\": 335141638,\n",
      "    \"id_str\": \"335141638\",\n",
      "    \"indices\": [\n",
      "     67,\n",
      "     75\n",
      "    ]\n",
      "   }\n",
      "  ],\n",
      "  \"urls\": []\n",
      " },\n",
      " \"metadata\": {\n",
      "  \"iso_language_code\": \"fi\",\n",
      "  \"result_type\": \"recent\"\n",
      " },\n",
      " \"source\": \"<a href=\\\"http://twitter.com/download/android\\\" rel=\\\"nofollow\\\">Twitter for Android</a>\",\n",
      " \"in_reply_to_status_id\": null,\n",
      " \"in_reply_to_status_id_str\": null,\n",
      " \"in_reply_to_user_id\": null,\n",
      " \"in_reply_to_user_id_str\": null,\n",
      " \"in_reply_to_screen_name\": null,\n",
      " \"user\": {\n",
      "  \"id\": 841968461928640512,\n",
      "  \"id_str\": \"841968461928640512\",\n",
      "  \"name\": \"momo\\ud83c\\udf51\\ud83c\\udf59/mochi\\ud83c\\udf61\\ud83c\\udf59\",\n",
      "  \"screen_name\": \"pieceofmochi\",\n",
      "  \"location\": \"anime, BTS\",\n",
      "  \"description\": \"Otaku | anime | manga | army |  \\ud83d\\udc9c\\ubc29\\ud0c4\\uc18c\\ub144\\ub2e8\\ud83d\\udc9c | games | \\ud83d\\udc99tales of series\\ud83d\\udc99 | PERSONA 5\\u2764 | \\ud83d\\udc90\\u30f4\\u30a1\\u30a4\\u30aa\\u30ec\\u30c3\\u30c8\\u30fb\\u30a8\\u30f4\\u30a1\\u30fc\\u30ac\\u30fc\\u30c7\\u30f3\\ud83d\\udc90 | \\ud83c\\udf38\\u8072\\u306e\\u5f62\\ud83c\\udf38 | \\ud83c\\udfeb\\u50d5\\u306e\\u30d2\\u30fc\\u30ed\\u30fc\\u30a2\\u30ab\\u30c7\\u30df\\u30a2\\ud83d\\udcaa | \\ud83d\\udc3aMan with a Mission\\ud83d\\udc3a\",\n",
      "  \"url\": null,\n",
      "  \"entities\": {\n",
      "   \"description\": {\n",
      "    \"urls\": []\n",
      "   }\n",
      "  },\n",
      "  \"protected\": false,\n",
      "  \"followers_count\": 4,\n",
      "  \"friends_count\": 63,\n",
      "  \"listed_count\": 0,\n",
      "  \"created_at\": \"Wed Mar 15 11:04:59 +0000 2017\",\n",
      "  \"favourites_count\": 2237,\n",
      "  \"utc_offset\": null,\n",
      "  \"time_zone\": null,\n",
      "  \"geo_enabled\": false,\n",
      "  \"verified\": false,\n",
      "  \"statuses_count\": 1970,\n",
      "  \"lang\": \"fi\",\n",
      "  \"contributors_enabled\": false,\n",
      "  \"is_translator\": false,\n",
      "  \"is_translation_enabled\": false,\n",
      "  \"profile_background_color\": \"F5F8FA\",\n",
      "  \"profile_background_image_url\": null,\n",
      "  \"profile_background_image_url_https\": null,\n",
      "  \"profile_background_tile\": false,\n",
      "  \"profile_image_url\": \"http://pbs.twimg.com/profile_images/1076951089973510144/LRz9fK-T_normal.jpg\",\n",
      "  \"profile_image_url_https\": \"https://pbs.twimg.com/profile_images/1076951089973510144/LRz9fK-T_normal.jpg\",\n",
      "  \"profile_banner_url\": \"https://pbs.twimg.com/profile_banners/841968461928640512/1545688411\",\n",
      "  \"profile_link_color\": \"1DA1F2\",\n",
      "  \"profile_sidebar_border_color\": \"C0DEED\",\n",
      "  \"profile_sidebar_fill_color\": \"DDEEF6\",\n",
      "  \"profile_text_color\": \"333333\",\n",
      "  \"profile_use_background_image\": true,\n",
      "  \"has_extended_profile\": true,\n",
      "  \"default_profile\": true,\n",
      "  \"default_profile_image\": false,\n",
      "  \"following\": false,\n",
      "  \"follow_request_sent\": false,\n",
      "  \"notifications\": false,\n",
      "  \"translator_type\": \"none\"\n",
      " },\n",
      " \"geo\": null,\n",
      " \"coordinates\": null,\n",
      " \"place\": null,\n",
      " \"contributors\": null,\n",
      " \"retweeted_status\": {\n",
      "  \"created_at\": \"Mon Dec 24 04:40:29 +0000 2018\",\n",
      "  \"id\": 1077061427272114176,\n",
      "  \"id_str\": \"1077061427272114176\",\n",
      "  \"text\": \"Kyll\\u00e4 on kivat joululahjat n\\u00e4\\u00e4 \\nNaver x Dispatch @BTS_twt -joulukuvat \\u2763\\ufe0f\\n#Hyv\\u00e4\\u00e4Joulua vaan ARMY! #MerryChristmas\\u2026 https://t.co/CRrFLvme9H\",\n",
      "  \"truncated\": true,\n",
      "  \"entities\": {\n",
      "   \"hashtags\": [\n",
      "    {\n",
      "     \"text\": \"Hyv\\u00e4\\u00e4Joulua\",\n",
      "     \"indices\": [\n",
      "      73,\n",
      "      85\n",
      "     ]\n",
      "    },\n",
      "    {\n",
      "     \"text\": \"MerryChristmas\",\n",
      "     \"indices\": [\n",
      "      97,\n",
      "      112\n",
      "     ]\n",
      "    }\n",
      "   ],\n",
      "   \"symbols\": [],\n",
      "   \"user_mentions\": [\n",
      "    {\n",
      "     \"screen_name\": \"BTS_twt\",\n",
      "     \"name\": \"\\ubc29\\ud0c4\\uc18c\\ub144\\ub2e8\",\n",
      "     \"id\": 335141638,\n",
      "     \"id_str\": \"335141638\",\n",
      "     \"indices\": [\n",
      "      49,\n",
      "      57\n",
      "     ]\n",
      "    }\n",
      "   ],\n",
      "   \"urls\": [\n",
      "    {\n",
      "     \"url\": \"https://t.co/CRrFLvme9H\",\n",
      "     \"expanded_url\": \"https://twitter.com/i/web/status/1077061427272114176\",\n",
      "     \"display_url\": \"twitter.com/i/web/status/1\\u2026\",\n",
      "     \"indices\": [\n",
      "      114,\n",
      "      137\n",
      "     ]\n",
      "    }\n",
      "   ]\n",
      "  },\n",
      "  \"metadata\": {\n",
      "   \"iso_language_code\": \"fi\",\n",
      "   \"result_type\": \"recent\"\n",
      "  },\n",
      "  \"source\": \"<a href=\\\"http://twitter.com/download/iphone\\\" rel=\\\"nofollow\\\">Twitter for iPhone</a>\",\n",
      "  \"in_reply_to_status_id\": null,\n",
      "  \"in_reply_to_status_id_str\": null,\n",
      "  \"in_reply_to_user_id\": null,\n",
      "  \"in_reply_to_user_id_str\": null,\n",
      "  \"in_reply_to_screen_name\": null,\n",
      "  \"user\": {\n",
      "   \"id\": 949025961172983808,\n",
      "   \"id_str\": \"949025961172983808\",\n",
      "   \"name\": \"BTS ARMY Finland\",\n",
      "   \"screen_name\": \"BTS_army_Fin\",\n",
      "   \"location\": \"Finland\",\n",
      "   \"description\": \"Suomalainen BTS fanbase \\ud83c\\uddeb\\ud83c\\uddee Finnish fanbase for @BTS_twt Member of @BTS_Fambases IG: https://t.co/DDEk13aFNH\",\n",
      "   \"url\": \"https://t.co/squJIRpZet\",\n",
      "   \"entities\": {\n",
      "    \"url\": {\n",
      "     \"urls\": [\n",
      "      {\n",
      "       \"url\": \"https://t.co/squJIRpZet\",\n",
      "       \"expanded_url\": \"https://curiouscat.me/BTS_army_Fin\",\n",
      "       \"display_url\": \"curiouscat.me/BTS_army_Fin\",\n",
      "       \"indices\": [\n",
      "        0,\n",
      "        23\n",
      "       ]\n",
      "      }\n",
      "     ]\n",
      "    },\n",
      "    \"description\": {\n",
      "     \"urls\": [\n",
      "      {\n",
      "       \"url\": \"https://t.co/DDEk13aFNH\",\n",
      "       \"expanded_url\": \"https://www.instagram.com/bts_army_finland_/\",\n",
      "       \"display_url\": \"instagram.com/bts_army_finla\\u2026\",\n",
      "       \"indices\": [\n",
      "        84,\n",
      "        107\n",
      "       ]\n",
      "      }\n",
      "     ]\n",
      "    }\n",
      "   },\n",
      "   \"protected\": false,\n",
      "   \"followers_count\": 5891,\n",
      "   \"friends_count\": 259,\n",
      "   \"listed_count\": 14,\n",
      "   \"created_at\": \"Thu Jan 04 21:13:15 +0000 2018\",\n",
      "   \"favourites_count\": 15630,\n",
      "   \"utc_offset\": null,\n",
      "   \"time_zone\": null,\n",
      "   \"geo_enabled\": true,\n",
      "   \"verified\": false,\n",
      "   \"statuses_count\": 15065,\n",
      "   \"lang\": \"en\",\n",
      "   \"contributors_enabled\": false,\n",
      "   \"is_translator\": false,\n",
      "   \"is_translation_enabled\": false,\n",
      "   \"profile_background_color\": \"F5F8FA\",\n",
      "   \"profile_background_image_url\": null,\n",
      "   \"profile_background_image_url_https\": null,\n",
      "   \"profile_background_tile\": false,\n",
      "   \"profile_image_url\": \"http://pbs.twimg.com/profile_images/1070084695143129089/kEugNH6j_normal.jpg\",\n",
      "   \"profile_image_url_https\": \"https://pbs.twimg.com/profile_images/1070084695143129089/kEugNH6j_normal.jpg\",\n",
      "   \"profile_banner_url\": \"https://pbs.twimg.com/profile_banners/949025961172983808/1543963048\",\n",
      "   \"profile_link_color\": \"1DA1F2\",\n",
      "   \"profile_sidebar_border_color\": \"C0DEED\",\n",
      "   \"profile_sidebar_fill_color\": \"DDEEF6\",\n",
      "   \"profile_text_color\": \"333333\",\n",
      "   \"profile_use_background_image\": true,\n",
      "   \"has_extended_profile\": true,\n",
      "   \"default_profile\": true,\n",
      "   \"default_profile_image\": false,\n",
      "   \"following\": false,\n",
      "   \"follow_request_sent\": false,\n",
      "   \"notifications\": false,\n",
      "   \"translator_type\": \"none\"\n",
      "  },\n",
      "  \"geo\": null,\n",
      "  \"coordinates\": null,\n",
      "  \"place\": null,\n",
      "  \"contributors\": null,\n",
      "  \"is_quote_status\": false,\n",
      "  \"retweet_count\": 12,\n",
      "  \"favorite_count\": 68,\n",
      "  \"favorited\": false,\n",
      "  \"retweeted\": false,\n",
      "  \"possibly_sensitive\": false,\n",
      "  \"lang\": \"fi\"\n",
      " },\n",
      " \"is_quote_status\": false,\n",
      " \"retweet_count\": 12,\n",
      " \"favorite_count\": 0,\n",
      " \"favorited\": false,\n",
      " \"retweeted\": false,\n",
      " \"lang\": \"fi\"\n",
      "}\n"
     ]
    }
   ],
   "source": [
    "print(json.dumps(statuses[0], indent=1))"
   ]
  },
  {
   "cell_type": "code",
   "execution_count": 101,
   "metadata": {},
   "outputs": [
    {
     "name": "stdout",
     "output_type": "stream",
     "text": [
      "12\n",
      "False\n"
     ]
    }
   ],
   "source": [
    "t = statuses[0]\n",
    "print(t['retweet_count'])\n",
    "print(t['retweeted'])"
   ]
  },
  {
   "cell_type": "markdown",
   "metadata": {},
   "source": [
    "### Extracting the text, screen names, and hashtags from the tweets"
   ]
  },
  {
   "cell_type": "code",
   "execution_count": 102,
   "metadata": {},
   "outputs": [],
   "source": [
    "status_texts = [status['text']\n",
    "               for status in statuses]\n",
    "screen_names = [user_mention['screen_name']\n",
    "               for status in statuses\n",
    "                   for user_mention in status['entities']['user_mentions']]\n",
    "hashtags = [hashtag['text']\n",
    "               for status in statuses\n",
    "                   for hashtag in status['entities']['hashtags']]\n",
    "\n",
    "#compute the collection of the words from all tweets\n",
    "words = [w\n",
    "        for t in status_texts\n",
    "\n",
    "         for w in t.split()]"
   ]
  },
  {
   "cell_type": "code",
   "execution_count": 103,
   "metadata": {},
   "outputs": [
    {
     "name": "stdout",
     "output_type": "stream",
     "text": [
      "[\n",
      " \"RT @BTS_army_Fin: Kyll\\u00e4 on kivat joululahjat n\\u00e4\\u00e4 \\nNaver x Dispatch @BTS_twt -joulukuvat \\u2763\\ufe0f\\n#Hyv\\u00e4\\u00e4Joulua vaan ARMY! #MerryChristmas \\n\\n#Video\\u2026\",\n",
      " \"Absolutely loved #clickandcollect fairplay, Andy made it up to Dev in the end and who doesn't like a happy ending #MerryChristmas\",\n",
      " \"\\ud83d\\ude0d\\ud83d\\ude0d\\ud83d\\ude0d #lakuno\\u0107 #MerryChristmas https://t.co/TuZJ59ZmPM\",\n",
      " \"He Said, She Said: Beermas Day 11: Maybe read this one @tavour @lostabbey #craftbeer #blog #bloggers #beeroclock\\u2026 https://t.co/vyhaazPXEY\",\n",
      " \"RT @THEANTHEMGIRL: Thank you to all who have served and are serving!  #MerryChristmas\\u2060 \\u2060 https://t.co/2kEGFQqUpB\"\n",
      "]\n",
      "[\n",
      " \"BTS_army_Fin\",\n",
      " \"BTS_twt\",\n",
      " \"tavour\",\n",
      " \"lostabbey\",\n",
      " \"THEANTHEMGIRL\"\n",
      "]\n",
      "[\n",
      " \"Hyv\\u00e4\\u00e4Joulua\",\n",
      " \"MerryChristmas\",\n",
      " \"clickandcollect\",\n",
      " \"MerryChristmas\",\n",
      " \"lakuno\\u0107\"\n",
      "]\n",
      "[\n",
      " \"RT\",\n",
      " \"@BTS_army_Fin:\",\n",
      " \"Kyll\\u00e4\",\n",
      " \"on\",\n",
      " \"kivat\"\n",
      "]\n"
     ]
    }
   ],
   "source": [
    "#We print the first 10 items for each\n",
    "print(json.dumps(status_texts[:5],indent=1))\n",
    "print(json.dumps(screen_names[:5],indent=1))\n",
    "print(json.dumps(hashtags[:5],indent=1))\n",
    "print(json.dumps(words[:5],indent=1))"
   ]
  },
  {
   "cell_type": "markdown",
   "metadata": {},
   "source": [
    "### Create the basic frequency distribution from the words in tweets"
   ]
  },
  {
   "cell_type": "code",
   "execution_count": 104,
   "metadata": {},
   "outputs": [],
   "source": [
    "from collections import Counter"
   ]
  },
  {
   "cell_type": "code",
   "execution_count": 105,
   "metadata": {},
   "outputs": [
    {
     "name": "stdout",
     "output_type": "stream",
     "text": [
      "[('RT', 72), ('#MerryChristmas', 44), ('a', 27), ('and', 24), ('you', 20), ('to', 17), ('the', 16), ('in', 11), ('all', 11), ('#merrychristmas', 11), ('Christmas', 10), ('😂', 10), ('Merry', 9), ('de', 8), ('be', 8), ('que', 7), ('of', 7), ('are', 6), ('we', 6), ('your', 6)]\n",
      "\n",
      "[('BTS_twt', 2), ('NissyStaff', 2), ('MyMouseComic', 2), ('BTS_army_Fin', 1), ('tavour', 1), ('lostabbey', 1), ('THEANTHEMGIRL', 1), ('MarineLorphelin', 1), ('GWMFilm', 1), ('satomi_nissy_', 1), ('ProjetoFFans', 1), ('ShawnMendes', 1), ('artofmmignola', 1), ('TheRock', 1), ('masaki_1133', 1), ('iam_keiji', 1), ('SHOKICHI_927', 1), ('PayneFullHuman', 1), ('Zoysbe', 1), ('ELFSuJuMexico', 1)]\n",
      "\n",
      "[('MerryChristmas', 55), ('merrychristmas', 12), ('Nissy', 3), ('BTS', 3), ('クリスマスイブ', 2), ('西島隆弘', 2), ('FelizNavidad', 2), ('feliznavidad', 2), ('JIMIN', 2), ('Christmas', 2), ('HappyNewYear', 2), ('HyvääJoulua', 1), ('clickandcollect', 1), ('lakunoć', 1), ('craftbeer', 1), ('blog', 1), ('bloggers', 1), ('beeroclock', 1), ('filmproduction', 1), ('filmcommunity', 1)]\n",
      "\n"
     ]
    }
   ],
   "source": [
    "for item in [words,screen_names,hashtags]:\n",
    "    c=Counter(item)\n",
    "    print(c.most_common()[:20]) #top 20\n",
    "    print()"
   ]
  },
  {
   "cell_type": "markdown",
   "metadata": {},
   "source": [
    "### Display the Previous output in Nice Tabular Format using Prettyprint function"
   ]
  },
  {
   "cell_type": "code",
   "execution_count": 106,
   "metadata": {},
   "outputs": [],
   "source": [
    "def prettyprint_counts(label,list_of_tuples):\n",
    "    print(\"\\n{:^20} | {:^6}\".format(label,\"Count\"))\n",
    "    print(\"*\"*40)\n",
    "    for k,v in list_of_tuples:\n",
    "        print(\"{:20} | {:>6}\".format(k,v))\n",
    "        "
   ]
  },
  {
   "cell_type": "code",
   "execution_count": 107,
   "metadata": {},
   "outputs": [
    {
     "name": "stdout",
     "output_type": "stream",
     "text": [
      "\n",
      "        word         | Count \n",
      "****************************************\n",
      "RT                   |     72\n",
      "#MerryChristmas      |     44\n",
      "a                    |     27\n",
      "and                  |     24\n",
      "you                  |     20\n",
      "to                   |     17\n",
      "the                  |     16\n",
      "in                   |     11\n",
      "all                  |     11\n",
      "#merrychristmas      |     11\n",
      "\n",
      "    Screen Name      | Count \n",
      "****************************************\n",
      "BTS_twt              |      2\n",
      "NissyStaff           |      2\n",
      "MyMouseComic         |      2\n",
      "BTS_army_Fin         |      1\n",
      "tavour               |      1\n",
      "lostabbey            |      1\n",
      "THEANTHEMGIRL        |      1\n",
      "MarineLorphelin      |      1\n",
      "GWMFilm              |      1\n",
      "satomi_nissy_        |      1\n",
      "\n",
      "      Hashtag        | Count \n",
      "****************************************\n",
      "MerryChristmas       |     55\n",
      "merrychristmas       |     12\n",
      "Nissy                |      3\n",
      "BTS                  |      3\n",
      "クリスマスイブ              |      2\n",
      "西島隆弘                 |      2\n",
      "FelizNavidad         |      2\n",
      "feliznavidad         |      2\n",
      "JIMIN                |      2\n",
      "Christmas            |      2\n"
     ]
    }
   ],
   "source": [
    "for label, data in (('word',words),\n",
    "                   ('Screen Name',screen_names),\n",
    "                   ('Hashtag',hashtags)):\n",
    "    c = Counter(data)\n",
    "    prettyprint_counts(label,c.most_common()[:10])"
   ]
  },
  {
   "cell_type": "markdown",
   "metadata": {},
   "source": [
    "### Print Entire Tweets with their Count of Retweets"
   ]
  },
  {
   "cell_type": "code",
   "execution_count": 109,
   "metadata": {},
   "outputs": [],
   "source": [
    "retweets = [\n",
    "            (status['retweet_count'],\n",
    "             status['retweeted_status']['user']['screen_name'],\n",
    "             status['text'].replace(\"\\n\",\"\\\\\"))\n",
    "    \n",
    "             for status in statuses\n",
    "                if 'retweeted_status' in status\n",
    "          ]"
   ]
  },
  {
   "cell_type": "code",
   "execution_count": 110,
   "metadata": {},
   "outputs": [],
   "source": [
    "row_template = \"{:^7} | {:^15} | {:50}\"\n",
    "def prettyprint_tweets(list_of_tuples):\n",
    "    print()\n",
    "    print(row_template.format(\"count\",\"Screen Name\",\"Text\"))\n",
    "    print(\"*\"*30)\n",
    "    for count,screen_names,text in list_of_tuples:\n",
    "        print(row_template.format(count,screen_names,text[:50]))\n",
    "        if len(text)>50:\n",
    "            print(row_template.format(\"\",\"\",text[50:100]))\n",
    "            if len(text)>100:\n",
    "                print(row_template.format(\"\",\"\",text[100:]))"
   ]
  },
  {
   "cell_type": "code",
   "execution_count": 112,
   "metadata": {},
   "outputs": [
    {
     "name": "stdout",
     "output_type": "stream",
     "text": [
      "\n",
      " count  |   Screen Name   | Text                                              \n",
      "******************************\n",
      " 53583  |     BTS_twt     | RT @BTS_twt: 행복한 크리스마스 보내고 있어요?\\오늘하루 즐겁게 보내요\\#JIMI\n",
      "        |                 | N\\#MerryChristmas https://t.co/cqTeerTTDw         \n",
      " 10126  |   NissyStaff    | RT @NissyStaff: 🎄12/24本日発売🎄\\【Nissy Entertainment 2\n",
      "        |                 | ndLIVE -FINAL- inTOKYODOME】\\✨Nissy史上初の一般店舗でも販売決定✨\\\n",
      "        |                 | https://t.co/gcGvKtOe1y\\\\#Nissy\\#西島隆弘\\#…          \n",
      " 5684   |   NissyStaff    | RT @NissyStaff: 🎄12/24発売🎄\\【Nissy Entertainment 2nd\n",
      "        |                 | LIVE -FINAL- inTOKYODOME】\\✨Nissy史上初の一般店舗でも販売決定✨\\ht\n",
      "        |                 | tps://t.co/gcGvKtOe1y\\\\#Nissy\\#西島隆弘\\#街や…          \n",
      " 2624   | hf_dreamcatcher | RT @hf_dreamcatcher: 인썸니아에게 드리는 크리스마스 선물🎅🏻🤶🏻🎁\\\\드림캐\n",
      "        |                 | 쳐 공식 인스타그램에서 확인해보세요💕\\\\여러분~❄\\Merry Christmas🎄\\\\▶ ht\n",
      "        |                 | tps://t.co/tcyOnzP8Bm\\\\#드림캐쳐 #Dreamcatc…          \n",
      " 2328   |     DBak69      | RT @DBak69: Get you someone that looks at you the \n",
      "        |                 | way @AaronRodgers12 does. #MerryChristmas https://\n",
      "        |                 | t.co/GS883VBIH1                                   \n",
      " 1850   |    GreysABC     | RT @GreysABC: #GreysAnatomy 🎄🎅🎁 Episodes:\\\\Season \n",
      "        |                 | 2 Episode 12  \"Grandma Got Run Over by a Reindeer\"\n",
      "        |                 | \\Season 6 Episode 10 \"Holidaze\"\\Season…           \n",
      " 1252   |   3point_ong    | RT @3point_ong: 🎄#MerryChristmas  \\\\#옹성우 #ONGSEONG\n",
      "        |                 | WU https://t.co/Hu9ZjqEESa                        \n",
      " 1014   |   ChinoMaron    | RT @ChinoMaron: サンタですよー\\#gochiusa\\#MerryChristmas \n",
      "        |                 | https://t.co/C2A5uZbmcJ                           \n",
      "  851   |    _SJPeace_    | RT @_SJPeace_: Thou shalt love thy\\\\Muslim neighbo\n",
      "        |                 | r\\\\Mexican neighbor \\\\Black neighbor \\\\Native neig\n",
      "        |                 | hbor\\\\Female neighbor \\\\Disabled neighb…          \n",
      "  839   | miku_monmon3939 | RT @miku_monmon3939: みんなー🎄✨\\メリクリ〜〜！！！\\\\みくりんサンタからプレ\n",
      "        |                 | ゼントだよ🎁\\#merrychristmas https://t.co/RwZU4UOTgv    \n"
     ]
    }
   ],
   "source": [
    "prettyprint_tweets(sorted(retweets, reverse=True)[:10])"
   ]
  }
 ],
 "metadata": {
  "kernelspec": {
   "display_name": "Python 3",
   "language": "python",
   "name": "python3"
  },
  "language_info": {
   "codemirror_mode": {
    "name": "ipython",
    "version": 3
   },
   "file_extension": ".py",
   "mimetype": "text/x-python",
   "name": "python",
   "nbconvert_exporter": "python",
   "pygments_lexer": "ipython3",
   "version": "3.6.5"
  }
 },
 "nbformat": 4,
 "nbformat_minor": 2
}
